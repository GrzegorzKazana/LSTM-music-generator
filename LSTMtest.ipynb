{
 "cells": [
  {
   "cell_type": "markdown",
   "metadata": {},
   "source": [
    "## Testing basic LSTM"
   ]
  },
  {
   "cell_type": "code",
   "execution_count": 20,
   "metadata": {},
   "outputs": [],
   "source": [
    "# create sample data\n",
    "# try to learn fruit names letter-wise\n",
    "\n",
    "words = ['apple', 'banana', 'pear', 'lime', 'cherry', 'orange', 'berry', 'strawberry']\n",
    "\n",
    "# sequence stop sign\n",
    "SEQUENCE_STOP_SIGN = '.'\n",
    "\n",
    "# transform words to letter arrays\n",
    "words_arrays = [[l for l in w] for w in words]"
   ]
  },
  {
   "cell_type": "code",
   "execution_count": 26,
   "metadata": {},
   "outputs": [
    {
     "data": {
      "text/plain": [
       "((['a', 'p', 'p', 'l', 'e'],), (['p', 'p', 'l', 'e', '.'],))"
      ]
     },
     "execution_count": 26,
     "metadata": {},
     "output_type": "execute_result"
    }
   ],
   "source": [
    "# create sequences in many-to-many configuration\n",
    "sequences_x, sequences_y = zip(*[(w, w[1:] + [SEQUENCE_STOP_SIGN]) for w in words_arrays])\n",
    "sequences_x[0], sequences_y[0:1]"
   ]
  },
  {
   "cell_type": "code",
   "execution_count": 32,
   "metadata": {},
   "outputs": [
    {
     "data": {
      "text/plain": [
       "array([0., 0., 0., 1., 0., 0., 0., 0., 0., 0., 0., 0., 0., 0., 0., 0., 0.,\n",
       "       0., 0., 0., 0., 0., 0., 0., 0., 0., 0.])"
      ]
     },
     "execution_count": 32,
     "metadata": {},
     "output_type": "execute_result"
    }
   ],
   "source": [
    "# one-hot encode letters (and stop sign)\n",
    "import string\n",
    "ALPHABET = string.ascii_lowercase + SEQUENCE_STOP_SIGN\n",
    "ALPHABET_LENGTH = len(ALPHABET)\n",
    "\n",
    "import numpy as np\n",
    "def encode_letter(letter):\n",
    "    res = np.zeros(ALPHABET_LENGTH)\n",
    "    res[ALPHABET.index(letter)] = 1\n",
    "    return res\n",
    "\n",
    "def decode_letter(ohe_vec):\n",
    "    # for now, one dimention only\n",
    "    return ALPHABET[ohe_vec.argmax()]\n",
    "\n",
    "encode_letter('d')"
   ]
  },
  {
   "cell_type": "code",
   "execution_count": 39,
   "metadata": {},
   "outputs": [
    {
     "data": {
      "text/plain": [
       "array([[1., 0., 0., 0., 0., 0., 0., 0., 0., 0., 0., 0., 0., 0., 0., 0.,\n",
       "        0., 0., 0., 0., 0., 0., 0., 0., 0., 0., 0.],\n",
       "       [0., 0., 0., 0., 0., 0., 0., 0., 0., 0., 0., 0., 0., 0., 0., 0.,\n",
       "        0., 0., 1., 0., 0., 0., 0., 0., 0., 0., 0.],\n",
       "       [0., 0., 0., 1., 0., 0., 0., 0., 0., 0., 0., 0., 0., 0., 0., 0.,\n",
       "        0., 0., 0., 0., 0., 0., 0., 0., 0., 0., 0.]])"
      ]
     },
     "execution_count": 39,
     "metadata": {},
     "output_type": "execute_result"
    }
   ],
   "source": [
    "def encode_word(word):\n",
    "    return np.stack([encode_letter(l) for l in word])\n",
    "    \n",
    "def decode_word(ohe_word):\n",
    "    return ''.join([decode_letter(ohe_letter) for ohe_letter in ohe_word])\n",
    "\n",
    "encode_word('asd')"
   ]
  },
  {
   "cell_type": "code",
   "execution_count": null,
   "metadata": {},
   "outputs": [],
   "source": [
    "# encode dataset\n",
    "data_x = [encode_word(seq) for seq in sequences_x]"
   ]
  }
 ],
 "metadata": {
  "kernelspec": {
   "display_name": "Python 3.6",
   "language": "python",
   "name": "python3"
  },
  "language_info": {
   "codemirror_mode": {
    "name": "ipython",
    "version": 3
   },
   "file_extension": ".py",
   "mimetype": "text/x-python",
   "name": "python",
   "nbconvert_exporter": "python",
   "pygments_lexer": "ipython3",
   "version": "3.6.6"
  }
 },
 "nbformat": 4,
 "nbformat_minor": 2
}
