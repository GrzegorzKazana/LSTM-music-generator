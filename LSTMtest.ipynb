{
 "cells": [
  {
   "cell_type": "markdown",
   "metadata": {},
   "source": [
    "# Testing basic LSTM\n",
    "### creating mock dataset "
   ]
  },
  {
   "cell_type": "code",
   "execution_count": 20,
   "metadata": {},
   "outputs": [],
   "source": [
    "# create sample data\n",
    "# try to learn fruit names letter-wise\n",
    "\n",
    "words = ['apple', 'banana', 'pear', 'lime', 'cherry', 'orange', 'berry', 'strawberry']\n",
    "\n",
    "# sequence stop sign\n",
    "SEQUENCE_STOP_SIGN = '.'\n",
    "\n",
    "# transform words to letter arrays\n",
    "words_arrays = [[l for l in w] for w in words]"
   ]
  },
  {
   "cell_type": "code",
   "execution_count": 40,
   "metadata": {},
   "outputs": [
    {
     "data": {
      "text/plain": [
       "(['a', 'p', 'p', 'l', 'e'], ['p', 'p', 'l', 'e', '.'])"
      ]
     },
     "execution_count": 40,
     "metadata": {},
     "output_type": "execute_result"
    }
   ],
   "source": [
    "# create sequences in many-to-many configuration\n",
    "sequences_x, sequences_y = zip(*[(w, w[1:] + [SEQUENCE_STOP_SIGN]) for w in words_arrays])\n",
    "sequences_x[0], sequences_y[0]"
   ]
  },
  {
   "cell_type": "code",
   "execution_count": 32,
   "metadata": {},
   "outputs": [
    {
     "data": {
      "text/plain": [
       "array([0., 0., 0., 1., 0., 0., 0., 0., 0., 0., 0., 0., 0., 0., 0., 0., 0.,\n",
       "       0., 0., 0., 0., 0., 0., 0., 0., 0., 0.])"
      ]
     },
     "execution_count": 32,
     "metadata": {},
     "output_type": "execute_result"
    }
   ],
   "source": [
    "# one-hot encode letters (and stop sign)\n",
    "import string\n",
    "ALPHABET = string.ascii_lowercase + SEQUENCE_STOP_SIGN\n",
    "ALPHABET_LENGTH = len(ALPHABET)\n",
    "\n",
    "import numpy as np\n",
    "def encode_letter(letter):\n",
    "    res = np.zeros(ALPHABET_LENGTH)\n",
    "    res[ALPHABET.index(letter)] = 1\n",
    "    return res\n",
    "\n",
    "def decode_letter(ohe_vec):\n",
    "    # for now, one dimention only\n",
    "    return ALPHABET[ohe_vec.argmax()]\n",
    "\n",
    "encode_letter('d')"
   ]
  },
  {
   "cell_type": "code",
   "execution_count": 39,
   "metadata": {},
   "outputs": [
    {
     "data": {
      "text/plain": [
       "array([[1., 0., 0., 0., 0., 0., 0., 0., 0., 0., 0., 0., 0., 0., 0., 0.,\n",
       "        0., 0., 0., 0., 0., 0., 0., 0., 0., 0., 0.],\n",
       "       [0., 0., 0., 0., 0., 0., 0., 0., 0., 0., 0., 0., 0., 0., 0., 0.,\n",
       "        0., 0., 1., 0., 0., 0., 0., 0., 0., 0., 0.],\n",
       "       [0., 0., 0., 1., 0., 0., 0., 0., 0., 0., 0., 0., 0., 0., 0., 0.,\n",
       "        0., 0., 0., 0., 0., 0., 0., 0., 0., 0., 0.]])"
      ]
     },
     "execution_count": 39,
     "metadata": {},
     "output_type": "execute_result"
    }
   ],
   "source": [
    "def encode_word(word):\n",
    "    return np.stack([encode_letter(l) for l in word])\n",
    "    \n",
    "def decode_word(ohe_word):\n",
    "    return ''.join([decode_letter(ohe_letter) for ohe_letter in ohe_word])\n",
    "\n",
    "encode_word('asd')"
   ]
  },
  {
   "cell_type": "code",
   "execution_count": 48,
   "metadata": {},
   "outputs": [],
   "source": [
    "# encode dataset\n",
    "data_x = [encode_word(seq) for seq in sequences_x]\n",
    "data_y = [encode_word(seq) for seq in sequences_y]"
   ]
  },
  {
   "cell_type": "code",
   "execution_count": 70,
   "metadata": {},
   "outputs": [],
   "source": [
    "# data generator\n",
    "import random\n",
    "def data_gen():\n",
    "    while True:\n",
    "        index = random.randint(0, len(data_x) - 1)\n",
    "        yield (\n",
    "            np.expand_dims(data_x[index], axis=0), \n",
    "            np.expand_dims(data_y[index], axis=0)\n",
    "        )"
   ]
  },
  {
   "cell_type": "markdown",
   "metadata": {},
   "source": [
    "### create model"
   ]
  },
  {
   "cell_type": "code",
   "execution_count": 85,
   "metadata": {},
   "outputs": [],
   "source": [
    "import tensorflow as tf\n",
    "\n",
    "INPUT_UNITS = ALPHABET_LENGTH\n",
    "HIDDEN_UNITS = 128\n",
    "OUTPUT_UNITS = ALPHABET_LENGTH\n",
    "\n",
    "# (seq_len, input)\n",
    "INPUT_SHAPE = (None, INPUT_UNITS)\n",
    "\n",
    "model = tf.keras.models.Sequential([\n",
    "    tf.keras.layers.LSTM(HIDDEN_UNITS, input_shape=INPUT_SHAPE, return_sequences=True),\n",
    "    tf.keras.layers.Dense(OUTPUT_UNITS, activation='softmax')\n",
    "])\n",
    "\n",
    "model.compile(\n",
    "    loss='categorical_crossentropy', \n",
    "    optimizer='adam', \n",
    "    metrics=['categorical_accuracy']\n",
    ")\n"
   ]
  },
  {
   "cell_type": "code",
   "execution_count": 86,
   "metadata": {},
   "outputs": [
    {
     "name": "stdout",
     "output_type": "stream",
     "text": [
      "Epoch 1/100\n",
      "8/8 [==============================] - 3s 388ms/step - loss: 3.2574 - categorical_accuracy: 0.2500\n",
      "Epoch 2/100\n",
      "8/8 [==============================] - 0s 13ms/step - loss: 3.2287 - categorical_accuracy: 0.2792\n",
      "Epoch 3/100\n",
      "8/8 [==============================] - 0s 14ms/step - loss: 3.1269 - categorical_accuracy: 0.3875\n",
      "Epoch 4/100\n",
      "8/8 [==============================] - 0s 15ms/step - loss: 3.0105 - categorical_accuracy: 0.2042\n",
      "Epoch 5/100\n",
      "8/8 [==============================] - 0s 13ms/step - loss: 2.7121 - categorical_accuracy: 0.2854\n",
      "Epoch 6/100\n",
      "8/8 [==============================] - 0s 13ms/step - loss: 2.5335 - categorical_accuracy: 0.2208\n",
      "Epoch 7/100\n",
      "8/8 [==============================] - 0s 13ms/step - loss: 2.4110 - categorical_accuracy: 0.2021\n",
      "Epoch 8/100\n",
      "8/8 [==============================] - 0s 14ms/step - loss: 2.4825 - categorical_accuracy: 0.2896\n",
      "Epoch 9/100\n",
      "8/8 [==============================] - 0s 14ms/step - loss: 2.3511 - categorical_accuracy: 0.3500\n",
      "Epoch 10/100\n",
      "8/8 [==============================] - 0s 17ms/step - loss: 2.3958 - categorical_accuracy: 0.3125\n",
      "Epoch 11/100\n",
      "8/8 [==============================] - 0s 15ms/step - loss: 2.3860 - categorical_accuracy: 0.3938\n",
      "Epoch 12/100\n",
      "8/8 [==============================] - 0s 13ms/step - loss: 2.2572 - categorical_accuracy: 0.4333\n",
      "Epoch 13/100\n",
      "8/8 [==============================] - 0s 15ms/step - loss: 2.0864 - categorical_accuracy: 0.4313\n",
      "Epoch 14/100\n",
      "8/8 [==============================] - 0s 24ms/step - loss: 2.3386 - categorical_accuracy: 0.3146\n",
      "Epoch 15/100\n",
      "8/8 [==============================] - 0s 19ms/step - loss: 1.9676 - categorical_accuracy: 0.3958\n",
      "Epoch 16/100\n",
      "8/8 [==============================] - 0s 14ms/step - loss: 1.9813 - categorical_accuracy: 0.5708\n",
      "Epoch 17/100\n",
      "8/8 [==============================] - 0s 15ms/step - loss: 1.8641 - categorical_accuracy: 0.5250\n",
      "Epoch 18/100\n",
      "8/8 [==============================] - 0s 16ms/step - loss: 1.9855 - categorical_accuracy: 0.4583\n",
      "Epoch 19/100\n",
      "8/8 [==============================] - 0s 24ms/step - loss: 2.0795 - categorical_accuracy: 0.4521\n",
      "Epoch 20/100\n",
      "8/8 [==============================] - 0s 19ms/step - loss: 1.8678 - categorical_accuracy: 0.4229\n",
      "Epoch 21/100\n",
      "8/8 [==============================] - 0s 20ms/step - loss: 1.5651 - categorical_accuracy: 0.6938\n",
      "Epoch 22/100\n",
      "8/8 [==============================] - 0s 26ms/step - loss: 1.6749 - categorical_accuracy: 0.5813\n",
      "Epoch 23/100\n",
      "8/8 [==============================] - 0s 18ms/step - loss: 1.7318 - categorical_accuracy: 0.6333\n",
      "Epoch 24/100\n",
      "8/8 [==============================] - 0s 26ms/step - loss: 1.7913 - categorical_accuracy: 0.5250\n",
      "Epoch 25/100\n",
      "8/8 [==============================] - 0s 25ms/step - loss: 1.5940 - categorical_accuracy: 0.5708\n",
      "Epoch 26/100\n",
      "8/8 [==============================] - 0s 17ms/step - loss: 1.7742 - categorical_accuracy: 0.4896\n",
      "Epoch 27/100\n",
      "8/8 [==============================] - 0s 16ms/step - loss: 1.7309 - categorical_accuracy: 0.5083\n",
      "Epoch 28/100\n",
      "8/8 [==============================] - 0s 15ms/step - loss: 1.6329 - categorical_accuracy: 0.5479\n",
      "Epoch 29/100\n",
      "8/8 [==============================] - 0s 16ms/step - loss: 1.2637 - categorical_accuracy: 0.6917\n",
      "Epoch 30/100\n",
      "8/8 [==============================] - 0s 14ms/step - loss: 1.4058 - categorical_accuracy: 0.6188\n",
      "Epoch 31/100\n",
      "8/8 [==============================] - 0s 15ms/step - loss: 1.4683 - categorical_accuracy: 0.5438\n",
      "Epoch 32/100\n",
      "8/8 [==============================] - 0s 13ms/step - loss: 1.3073 - categorical_accuracy: 0.6813\n",
      "Epoch 33/100\n",
      "8/8 [==============================] - 0s 14ms/step - loss: 1.4116 - categorical_accuracy: 0.6354\n",
      "Epoch 34/100\n",
      "8/8 [==============================] - 0s 14ms/step - loss: 1.1355 - categorical_accuracy: 0.7333\n",
      "Epoch 35/100\n",
      "8/8 [==============================] - ETA: 0s - loss: 1.2496 - categorical_accuracy: 0.60 - ETA: 0s - loss: 1.1001 - categorical_accuracy: 0.60 - 0s 16ms/step - loss: 1.1077 - categorical_accuracy: 0.6313\n",
      "Epoch 36/100\n",
      "8/8 [==============================] - 0s 15ms/step - loss: 0.9775 - categorical_accuracy: 0.7354\n",
      "Epoch 37/100\n",
      "8/8 [==============================] - 0s 15ms/step - loss: 1.1752 - categorical_accuracy: 0.7187\n",
      "Epoch 38/100\n",
      "8/8 [==============================] - 0s 14ms/step - loss: 1.1850 - categorical_accuracy: 0.7458\n",
      "Epoch 39/100\n",
      "8/8 [==============================] - 0s 14ms/step - loss: 1.0486 - categorical_accuracy: 0.8542\n",
      "Epoch 40/100\n",
      "8/8 [==============================] - 0s 15ms/step - loss: 0.9793 - categorical_accuracy: 0.7750\n",
      "Epoch 41/100\n",
      "8/8 [==============================] - 0s 14ms/step - loss: 1.0745 - categorical_accuracy: 0.7083 0s - loss: 1.0326 - categorical_accuracy: 0.80\n",
      "Epoch 42/100\n",
      "8/8 [==============================] - 0s 16ms/step - loss: 0.8691 - categorical_accuracy: 0.8167\n",
      "Epoch 43/100\n",
      "8/8 [==============================] - 0s 18ms/step - loss: 0.9057 - categorical_accuracy: 0.7208\n",
      "Epoch 44/100\n",
      "8/8 [==============================] - 0s 13ms/step - loss: 0.9313 - categorical_accuracy: 0.7083\n",
      "Epoch 45/100\n",
      "8/8 [==============================] - 0s 15ms/step - loss: 0.7886 - categorical_accuracy: 0.9000\n",
      "Epoch 46/100\n",
      "8/8 [==============================] - 0s 16ms/step - loss: 0.6839 - categorical_accuracy: 0.9333\n",
      "Epoch 47/100\n",
      "8/8 [==============================] - 0s 14ms/step - loss: 0.8017 - categorical_accuracy: 0.8292\n",
      "Epoch 48/100\n",
      "8/8 [==============================] - 0s 13ms/step - loss: 0.6831 - categorical_accuracy: 0.8958\n",
      "Epoch 49/100\n",
      "8/8 [==============================] - 0s 12ms/step - loss: 0.9336 - categorical_accuracy: 0.6250\n",
      "Epoch 50/100\n",
      "8/8 [==============================] - 0s 24ms/step - loss: 0.6207 - categorical_accuracy: 0.9042\n",
      "Epoch 51/100\n",
      "8/8 [==============================] - 0s 13ms/step - loss: 0.8222 - categorical_accuracy: 0.7354\n",
      "Epoch 52/100\n",
      "8/8 [==============================] - 0s 17ms/step - loss: 0.6096 - categorical_accuracy: 0.8521\n",
      "Epoch 53/100\n",
      "8/8 [==============================] - 0s 14ms/step - loss: 0.6444 - categorical_accuracy: 0.8521\n",
      "Epoch 54/100\n",
      "8/8 [==============================] - 0s 13ms/step - loss: 0.6792 - categorical_accuracy: 0.7917\n",
      "Epoch 55/100\n",
      "8/8 [==============================] - 0s 16ms/step - loss: 0.6312 - categorical_accuracy: 0.8375\n",
      "Epoch 56/100\n",
      "8/8 [==============================] - 0s 15ms/step - loss: 0.5722 - categorical_accuracy: 0.9333\n",
      "Epoch 57/100\n",
      "8/8 [==============================] - 0s 13ms/step - loss: 0.5602 - categorical_accuracy: 0.9375\n",
      "Epoch 58/100\n",
      "8/8 [==============================] - 0s 15ms/step - loss: 0.5036 - categorical_accuracy: 0.8708\n",
      "Epoch 59/100\n",
      "8/8 [==============================] - 0s 12ms/step - loss: 0.5603 - categorical_accuracy: 0.9875\n",
      "Epoch 60/100\n",
      "8/8 [==============================] - 0s 13ms/step - loss: 0.7091 - categorical_accuracy: 0.8229\n",
      "Epoch 61/100\n",
      "8/8 [==============================] - 0s 15ms/step - loss: 0.5149 - categorical_accuracy: 0.8812\n",
      "Epoch 62/100\n",
      "8/8 [==============================] - 0s 13ms/step - loss: 0.6255 - categorical_accuracy: 0.7917\n",
      "Epoch 63/100\n",
      "8/8 [==============================] - 0s 13ms/step - loss: 0.5556 - categorical_accuracy: 0.8854 0s - loss: 0.5900 - categorical_accuracy: 0.88\n",
      "Epoch 64/100\n",
      "8/8 [==============================] - 0s 14ms/step - loss: 0.5972 - categorical_accuracy: 0.9000\n",
      "Epoch 65/100\n",
      "8/8 [==============================] - 0s 17ms/step - loss: 0.6164 - categorical_accuracy: 0.8625\n",
      "Epoch 66/100\n",
      "8/8 [==============================] - 0s 20ms/step - loss: 0.4840 - categorical_accuracy: 0.9417\n",
      "Epoch 67/100\n",
      "8/8 [==============================] - 0s 14ms/step - loss: 0.5356 - categorical_accuracy: 0.9583\n",
      "Epoch 68/100\n",
      "8/8 [==============================] - 0s 15ms/step - loss: 0.4711 - categorical_accuracy: 0.9562\n",
      "Epoch 69/100\n",
      "8/8 [==============================] - 0s 14ms/step - loss: 0.4985 - categorical_accuracy: 0.9146\n",
      "Epoch 70/100\n",
      "8/8 [==============================] - 0s 13ms/step - loss: 0.4341 - categorical_accuracy: 0.9562\n",
      "Epoch 71/100\n",
      "8/8 [==============================] - 0s 12ms/step - loss: 0.4118 - categorical_accuracy: 1.0000\n",
      "Epoch 72/100\n",
      "8/8 [==============================] - 0s 13ms/step - loss: 0.4909 - categorical_accuracy: 0.9375\n",
      "Epoch 73/100\n"
     ]
    },
    {
     "name": "stdout",
     "output_type": "stream",
     "text": [
      "8/8 [==============================] - 0s 13ms/step - loss: 0.4025 - categorical_accuracy: 0.9458\n",
      "Epoch 74/100\n",
      "8/8 [==============================] - 0s 14ms/step - loss: 0.3872 - categorical_accuracy: 1.0000\n",
      "Epoch 75/100\n",
      "8/8 [==============================] - 0s 18ms/step - loss: 0.4051 - categorical_accuracy: 0.9542\n",
      "Epoch 76/100\n",
      "8/8 [==============================] - 0s 22ms/step - loss: 0.4359 - categorical_accuracy: 0.9792\n",
      "Epoch 77/100\n",
      "8/8 [==============================] - 0s 15ms/step - loss: 0.3391 - categorical_accuracy: 0.9583\n",
      "Epoch 78/100\n",
      "8/8 [==============================] - ETA: 0s - loss: 0.3851 - categorical_accuracy: 0.90 - 0s 20ms/step - loss: 0.4160 - categorical_accuracy: 0.9292\n",
      "Epoch 79/100\n",
      "8/8 [==============================] - 0s 21ms/step - loss: 0.3432 - categorical_accuracy: 0.9333\n",
      "Epoch 80/100\n",
      "8/8 [==============================] - 0s 14ms/step - loss: 0.3572 - categorical_accuracy: 0.9333\n",
      "Epoch 81/100\n",
      "8/8 [==============================] - 0s 13ms/step - loss: 0.3652 - categorical_accuracy: 0.9750\n",
      "Epoch 82/100\n",
      "8/8 [==============================] - 0s 18ms/step - loss: 0.3867 - categorical_accuracy: 0.9458\n",
      "Epoch 83/100\n",
      "8/8 [==============================] - 0s 13ms/step - loss: 0.4211 - categorical_accuracy: 0.9750\n",
      "Epoch 84/100\n",
      "8/8 [==============================] - 0s 15ms/step - loss: 0.3409 - categorical_accuracy: 0.9125\n",
      "Epoch 85/100\n",
      "8/8 [==============================] - 0s 13ms/step - loss: 0.3195 - categorical_accuracy: 0.9375\n",
      "Epoch 86/100\n",
      "8/8 [==============================] - 0s 14ms/step - loss: 0.3274 - categorical_accuracy: 0.9542\n",
      "Epoch 87/100\n",
      "8/8 [==============================] - 0s 14ms/step - loss: 0.3179 - categorical_accuracy: 0.9542\n",
      "Epoch 88/100\n",
      "8/8 [==============================] - 0s 16ms/step - loss: 0.3577 - categorical_accuracy: 0.9875\n",
      "Epoch 89/100\n",
      "8/8 [==============================] - 0s 13ms/step - loss: 0.2858 - categorical_accuracy: 0.9667\n",
      "Epoch 90/100\n",
      "8/8 [==============================] - 0s 13ms/step - loss: 0.2998 - categorical_accuracy: 0.9875\n",
      "Epoch 91/100\n",
      "8/8 [==============================] - 0s 16ms/step - loss: 0.2790 - categorical_accuracy: 1.0000\n",
      "Epoch 92/100\n",
      "8/8 [==============================] - 0s 26ms/step - loss: 0.2663 - categorical_accuracy: 0.9542\n",
      "Epoch 93/100\n",
      "8/8 [==============================] - 0s 18ms/step - loss: 0.3097 - categorical_accuracy: 0.9125\n",
      "Epoch 94/100\n",
      "8/8 [==============================] - 0s 16ms/step - loss: 0.2042 - categorical_accuracy: 0.9667\n",
      "Epoch 95/100\n",
      "8/8 [==============================] - 0s 12ms/step - loss: 0.2609 - categorical_accuracy: 1.0000\n",
      "Epoch 96/100\n",
      "8/8 [==============================] - 0s 13ms/step - loss: 0.3252 - categorical_accuracy: 0.9792\n",
      "Epoch 97/100\n",
      "8/8 [==============================] - 0s 16ms/step - loss: 0.2957 - categorical_accuracy: 0.9792\n",
      "Epoch 98/100\n",
      "8/8 [==============================] - 0s 20ms/step - loss: 0.2013 - categorical_accuracy: 1.0000\n",
      "Epoch 99/100\n",
      "8/8 [==============================] - 0s 15ms/step - loss: 0.2259 - categorical_accuracy: 0.9792\n",
      "Epoch 100/100\n",
      "8/8 [==============================] - 0s 14ms/step - loss: 0.2819 - categorical_accuracy: 0.9792\n"
     ]
    },
    {
     "data": {
      "text/plain": [
       "<tensorflow.python.keras.callbacks.History at 0x1fc83e3b4a8>"
      ]
     },
     "execution_count": 86,
     "metadata": {},
     "output_type": "execute_result"
    }
   ],
   "source": [
    "gen = data_gen()\n",
    "STEPS_PER_EPOCH = len(data_x)\n",
    "EPOCHS = 100\n",
    "\n",
    "model.fit_generator(gen, steps_per_epoch=STEPS_PER_EPOCH, epochs=EPOCHS)"
   ]
  },
  {
   "cell_type": "code",
   "execution_count": 82,
   "metadata": {},
   "outputs": [
    {
     "data": {
      "text/plain": [
       "'ea'"
      ]
     },
     "execution_count": 82,
     "metadata": {},
     "output_type": "execute_result"
    }
   ],
   "source": [
    "prediction = model.predict(np.expand_dims(encode_word('pe'), axis=0))\n",
    "decode_word(np.squeeze(prediction, axis=0))"
   ]
  }
 ],
 "metadata": {
  "kernelspec": {
   "display_name": "Python 3.6",
   "language": "python",
   "name": "python3"
  },
  "language_info": {
   "codemirror_mode": {
    "name": "ipython",
    "version": 3
   },
   "file_extension": ".py",
   "mimetype": "text/x-python",
   "name": "python",
   "nbconvert_exporter": "python",
   "pygments_lexer": "ipython3",
   "version": "3.6.6"
  }
 },
 "nbformat": 4,
 "nbformat_minor": 2
}
