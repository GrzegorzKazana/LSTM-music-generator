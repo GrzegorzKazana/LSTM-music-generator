{
 "cells": [
  {
   "cell_type": "markdown",
   "metadata": {},
   "source": [
    "## Sample generation\n",
    "#### load trained model -> generate samples"
   ]
  },
  {
   "cell_type": "code",
   "execution_count": null,
   "metadata": {},
   "outputs": [],
   "source": [
    "from google.colab import drive\n",
    "drive.mount('/content/drive')"
   ]
  },
  {
   "cell_type": "code",
   "execution_count": null,
   "metadata": {},
   "outputs": [],
   "source": [
    "IGNORE_NOTE_VELOCITY = True\n",
    "TARGET_IS_SEQUENCE = True\n",
    "MAX_WINDOW_SIZE = 100\n",
    "PLOT_SEEDS = True\n",
    "\n",
    "import numpy as np\n",
    "from tensorflow import keras\n",
    "\n",
    "INPUT_SIZE = 128 if IGNORE_NOTE_VELOCITY else 256\n",
    "# [batch_size, sequence_len, input_dim]\n",
    "\n",
    "model_name = 'm1560126804'\n",
    "\n",
    "input_path = '/content/drive/My Drive/datasets/'\n",
    "input_file_name = f'heck_512_stacked_all/{model_name}.h5'\n",
    "\n",
    "model = keras.models.load_model(input_path + input_file_name)"
   ]
  },
  {
   "cell_type": "markdown",
   "metadata": {},
   "source": [
    "### Generate seed"
   ]
  },
  {
   "cell_type": "code",
   "execution_count": null,
   "metadata": {},
   "outputs": [],
   "source": [
    "import numpy as np\n",
    "import random\n",
    "import matplotlib.pyplot as plt\n",
    "\n",
    "\n",
    "# helpers\n",
    "scales = {\n",
    "    \"natural_minor\": [0, 2, 3, 5, 7, 8, 10, 12],\n",
    "    \"harmonic_minor\": [0, 2, 3, 5, 7, 8, 11, 12],\n",
    "    \"melodic_minor\": [0, 2, 3, 5, 7, 9, 11, 12],\n",
    "    \"major\": [0, 2, 4, 5, 7, 9, 11, 12],\n",
    "    \"dorian\": [0, 2, 4, 5, 7, 9, 10, 12],\n",
    "    \"mixolydian\": [0, 2, 4, 5, 7, 9, 10, 12],\n",
    "    \"pentatonic\": [0, 3, 5, 7, 10, 12],\n",
    "}\n",
    "\n",
    "def get_random_scale():\n",
    "    return random.choice(list(scales.values()))\n",
    "\n",
    "def get_random_notes_from_random_scale(base_note, n_notes=1):\n",
    "    scale = get_random_scale()\n",
    "    two_octave_scale = scale + [-x for x in scale]\n",
    "    return [base_note + random.choice(two_octave_scale) for _ in range(n_notes)]\n",
    "\n",
    "def create_noise_adder(noise_gen, noise_scale=0.5, **nkwargs):\n",
    "    def inner(seed_gen, **kwargs):\n",
    "        return lambda length, batch_size: np.clip((\n",
    "            noise_scale * noise_gen(length, batch_size, **nkwargs)\n",
    "            + seed_gen(length, batch_size, **kwargs)), 0, 1\n",
    "        )\n",
    "    return inner\n",
    "\n",
    "# na = create_noise_adder(band_noise_seed)\n",
    "# x = na(multi_note_simult_harmonic_seed)(length=128, batch_size=16)\n",
    "def plot_seq(x):\n",
    "    if len(x.shape) == 3:\n",
    "        nrows = x.shape[0] // 4\n",
    "        fig, axs = plt.subplots(nrows=nrows, ncols=4, figsize=(12, nrows * 3),\n",
    "                                subplot_kw={'xticks': [], 'yticks': []})\n",
    "        for ax, x_ in zip(axs.flat, x):\n",
    "            ax.imshow(x_.T[::-1, :])\n",
    "    else:\n",
    "        plt.imshow(x[0].T[::-1, :])\n",
    "    plt.tight_layout()\n",
    "    res = plt.gcf()\n",
    "    plt.show()\n",
    "    return res    "
   ]
  },
  {
   "cell_type": "code",
   "execution_count": null,
   "metadata": {},
   "outputs": [],
   "source": [
    "def random_noise_seed(length=MAX_WINDOW_SIZE, batch_size=16):\n",
    "    return np.random.random((batch_size, length, INPUT_SIZE)) * 0.5"
   ]
  },
  {
   "cell_type": "code",
   "execution_count": null,
   "metadata": {},
   "outputs": [],
   "source": [
    "def zero_seed(length=MAX_WINDOW_SIZE, batch_size=16):\n",
    "    return np.zeros((batch_size, length, INPUT_SIZE))"
   ]
  },
  {
   "cell_type": "code",
   "execution_count": null,
   "metadata": {},
   "outputs": [],
   "source": [
    "# notes in middle range have highier values\n",
    "# taken from normal distribution for each \"hand\"\n",
    "# mu1 = 76, mu2 = 48, std = 12\n",
    "def band_noise_seed(length=MAX_WINDOW_SIZE, batch_size=16):\n",
    "    mu1 = 76\n",
    "    mu2 = 48\n",
    "    std = 12\n",
    "    hand1 = np.exp(-(np.arange(128) - mu1) ** 2 / (2 * std ** 2))\n",
    "    hand2 = np.exp(-(np.arange(128) - mu2) ** 2 / (2 * std ** 2))\n",
    "    hands = hand1 + hand2\n",
    "    randomness = np.random.random(((batch_size, length, INPUT_SIZE))) * 0.5\n",
    "    return randomness * hands"
   ]
  },
  {
   "cell_type": "code",
   "execution_count": null,
   "metadata": {},
   "outputs": [],
   "source": [
    "def single_note_seed(length=MAX_WINDOW_SIZE, batch_size=16):\n",
    "    res = np.zeros((batch_size, length, INPUT_SIZE))\n",
    "    for i in range(batch_size):\n",
    "        note = int(np.random.normal(72, 16))\n",
    "        note = np.clip(note, 0, 127)\n",
    "        res[i, :, note] = 1\n",
    "    return res"
   ]
  },
  {
   "cell_type": "code",
   "execution_count": null,
   "metadata": {},
   "outputs": [],
   "source": [
    "def single_note_short_seed(length=MAX_WINDOW_SIZE, batch_size=16, max_note_length=25):\n",
    "    res = np.zeros((batch_size, length, INPUT_SIZE))\n",
    "    for i in range(batch_size):\n",
    "        note = int(np.random.normal(72, 16))\n",
    "        note = np.clip(note, 0, 127)\n",
    "        note_on = np.random.randint(length)\n",
    "        note_off = np.random.randint(note_on, min(note_on + max_note_length, length))\n",
    "        res[i, note_on:note_off, note] = 1\n",
    "    return res"
   ]
  },
  {
   "cell_type": "code",
   "execution_count": null,
   "metadata": {},
   "outputs": [],
   "source": [
    "def multi_note_seed(length=MAX_WINDOW_SIZE, batch_size=16, num_notes=5):\n",
    "    res = np.zeros((batch_size, length, INPUT_SIZE))\n",
    "    for j in range(batch_size):\n",
    "        notes = np.random.normal(72, 16, size=num_notes).round().astype(int)\n",
    "        notes = np.clip(notes, 0, 127)\n",
    "        note_change_times = np.sort(np.random.choice(np.arange(length), size=num_notes + 1))\n",
    "        for i, note in enumerate(notes):\n",
    "            res[j, note_change_times[i]:note_change_times[i+1], note] = 1\n",
    "    return res\n",
    "\n",
    "def multi_note_harmonic_seed(length=MAX_WINDOW_SIZE, batch_size=16, num_notes=5):\n",
    "    res = np.zeros((batch_size, length, INPUT_SIZE))\n",
    "    base_note = 72\n",
    "    for j in range(batch_size):\n",
    "        notes = get_random_notes_from_random_scale(base_note, num_notes)\n",
    "        note_change_times = np.sort(np.random.choice(np.arange(length), size=num_notes + 1))\n",
    "        for i, note in enumerate(notes):\n",
    "            res[j, note_change_times[i]:note_change_times[i+1], note] = 1\n",
    "    return res"
   ]
  },
  {
   "cell_type": "code",
   "execution_count": null,
   "metadata": {},
   "outputs": [],
   "source": [
    "def multi_note_simult_seed(length=MAX_WINDOW_SIZE, batch_size=16, num_notes=15, max_note_length=25):\n",
    "    res = np.zeros((batch_size, length, INPUT_SIZE))\n",
    "    for j in range(batch_size):\n",
    "        notes = np.random.normal(72, 16, size=num_notes).round().astype(int)\n",
    "        notes = np.clip(notes, 0, 127)\n",
    "        for i, note in enumerate(notes):\n",
    "            note_on = np.random.randint(length)\n",
    "            note_off = np.random.randint(note_on, min(note_on + max_note_length, length))\n",
    "            res[j, note_on:note_off, note] = 1\n",
    "    return res\n",
    "\n",
    "def multi_note_simult_harmonic_seed(length=MAX_WINDOW_SIZE, batch_size=16, num_notes=15, max_note_length=25):\n",
    "    res = np.zeros((batch_size, length, INPUT_SIZE))\n",
    "    base_note = 72\n",
    "    for j in range(batch_size):\n",
    "        notes = get_random_notes_from_random_scale(base_note, num_notes)\n",
    "        for i, note in enumerate(notes):\n",
    "            note_on = np.random.randint(length)\n",
    "            note_off = np.random.randint(note_on, min(note_on + max_note_length, length))\n",
    "            res[j, note_on:note_off, note] = 1\n",
    "    return res"
   ]
  },
  {
   "cell_type": "markdown",
   "metadata": {},
   "source": [
    "### All seeds"
   ]
  },
  {
   "cell_type": "code",
   "execution_count": null,
   "metadata": {},
   "outputs": [],
   "source": [
    "bna = create_noise_adder(band_noise_seed)\n",
    "rna = create_noise_adder(random_noise_seed)\n",
    "\n",
    "seed_generators = {\n",
    "    \"random_noise_seed\": random_noise_seed,\n",
    "    \"zero_seed\": zero_seed,\n",
    "    \"band_noise_seed\": band_noise_seed,\n",
    "    \"single_note_seed\": single_note_seed,\n",
    "    \"single_note_short_seed\": single_note_short_seed,\n",
    "    \"multi_note_seed\": multi_note_seed,\n",
    "    \"multi_note_harmonic_seed\": multi_note_harmonic_seed,\n",
    "    \"multi_note_simult_seed\": multi_note_simult_seed,\n",
    "    \"multi_note_simult_harmonic_seed\": multi_note_simult_harmonic_seed,\n",
    "    \"single_note_seed_noise\": rna(single_note_seed),\n",
    "    \"single_note_seed_band noise\": bna(single_note_seed),\n",
    "    \"single_note_short_seed_noise\": rna(single_note_short_seed),\n",
    "    \"single_note_short_seed_band noise\": bna(single_note_short_seed),\n",
    "    \"multi_note_harmonic_seed_noise\": rna(multi_note_harmonic_seed),\n",
    "    \"multi_note_harmonic_seed_band noise\": bna(multi_note_harmonic_seed),\n",
    "    \"multi_note_simult_harmonic_seed_noise\": rna(multi_note_simult_harmonic_seed),\n",
    "    \"multi_note_simult_harmonic_seed_band noise\": bna(multi_note_simult_harmonic_seed),\n",
    "}"
   ]
  },
  {
   "cell_type": "code",
   "execution_count": null,
   "metadata": {},
   "outputs": [],
   "source": [
    "%matplotlib notebook\n",
    "fig, axs = plt.subplots(nrows=len(seed_generators.items()), ncols=4, figsize=(12, 51),\n",
    "                                subplot_kw={'xticks': [], 'yticks': []})\n",
    "for i, (name, gen) in enumerate(seed_generators.items()):\n",
    "    x = gen(length=128, batch_size=4)\n",
    "    for j, x_ in enumerate(x):\n",
    "        if j ==0:\n",
    "            axs.flat[4 * i + j].set_title(name, size=10)\n",
    "        axs.flat[4 * i + j].imshow(x_.T[::-1, :])\n",
    "\n",
    "# plt.tight_layout()\n",
    "plt.show()"
   ]
  },
  {
   "cell_type": "markdown",
   "metadata": {},
   "source": [
    "### Generate sequence"
   ]
  },
  {
   "cell_type": "code",
   "execution_count": null,
   "metadata": {},
   "outputs": [],
   "source": [
    "# at default 1 frame = 0.025s\n",
    "SEQUENCE_LENGTH = 600\n",
    "SEED_LENGTH = 599\n",
    "\n",
    "def generate(seed, seq_length, window_len=SEED_LENGTH):\n",
    "    # sequence shape is [batch_size, sequence_length, input_size]\n",
    "    x = seed\n",
    "    accum = [seed]\n",
    "    for i in range(seq_length - window_len):\n",
    "        print(i, end=',')\n",
    "        res = model.predict(x).round()\n",
    "        if TARGET_IS_SEQUENCE:\n",
    "            # next input consists input\n",
    "            # and last slice of result\n",
    "            # (then limited to window size)\n",
    "            x = np.concatenate([x, res[:, -1:, :]], axis=1)[:, -MAX_WINDOW_SIZE:, :]\n",
    "            accum.append(res[:, -1:, :])\n",
    "        else:\n",
    "            # next input consists of previous input\n",
    "            # with result frame attatched to end\n",
    "            # (then limited to window size)\n",
    "            x = np.concatenate([x, res[:, np.newaxis, :]], axis=1)[:, -MAX_WINDOW_SIZE:, :]\n",
    "            accum.append(res[:, np.newaxis, :])\n",
    "    return np.concatenate(accum, axis=1).round()"
   ]
  },
  {
   "cell_type": "code",
   "execution_count": null,
   "metadata": {},
   "outputs": [],
   "source": [
    "%matplotlib notebook\n",
    "\n",
    "name, seed_gen = list(seed_generators.items())[0]\n",
    "\n",
    "samples = [generate(seed_gen(length=SEED_LENGTH, batch_size=1), SEQUENCE_LENGTH) for _ in range(4)]\n",
    "samples = np.concatenate(samples, axis=0)\n",
    "print(samples.shape)\n",
    "plot_seq(samples).show()"
   ]
  },
  {
   "cell_type": "markdown",
   "metadata": {},
   "source": [
    "### Save to numpy format"
   ]
  },
  {
   "cell_type": "code",
   "execution_count": null,
   "metadata": {},
   "outputs": [],
   "source": [
    "from datetime import datetime\n",
    "\n",
    "def save_numpy_midi(output_path, res):\n",
    "    import numpy as np\n",
    "    from scipy import sparse\n",
    "    if '.csv' in output_path:\n",
    "        np.savetxt(output_path, res, delimiter=\",\")\n",
    "        print(f'Saved to: {output_path}')\n",
    "    elif '.npy' in output_path:\n",
    "        np.save(output_path, res)\n",
    "        print(f'Saved to: {output_path}')\n",
    "    elif '.npz' in output_path:\n",
    "        res_sparse = sparse.coo_matrix(res)\n",
    "        sparsity_factor = 1 - (res_sparse.getnnz() / res.size)\n",
    "        sparse.save_npz(output_path, res_sparse)\n",
    "        print(\n",
    "            f'Saved to: {output_path}, {int(100 * sparsity_factor)}% sparsity')\n",
    "\n",
    "tim = str(datetime.now()).replace(' ', '_').replace(':', '_')\n",
    "output_path = '/content/drive/My Drive/datasets/heck_512_stacked_all/samples/'\n",
    "for i, sample in enumerate(samples):    \n",
    "    output_file_name = f'{model_name}_{name}_{tim}_{i}.npz'\n",
    "    save_numpy_midi(output_path + output_file_name, sample)"
   ]
  }
 ],
 "metadata": {
  "kernelspec": {
   "display_name": "Python 3.6",
   "language": "python",
   "name": "python3"
  },
  "language_info": {
   "codemirror_mode": {
    "name": "ipython",
    "version": 3
   },
   "file_extension": ".py",
   "mimetype": "text/x-python",
   "name": "python",
   "nbconvert_exporter": "python",
   "pygments_lexer": "ipython3",
   "version": "3.6.6"
  }
 },
 "nbformat": 4,
 "nbformat_minor": 2
}
