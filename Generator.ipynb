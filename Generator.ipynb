{
 "cells": [
  {
   "cell_type": "markdown",
   "metadata": {},
   "source": [
    "## Sample generation\n",
    "#### load trained model -> generate samples"
   ]
  },
  {
   "cell_type": "code",
   "execution_count": 1,
   "metadata": {},
   "outputs": [
    {
     "name": "stdout",
     "output_type": "stream",
     "text": [
      "WARNING:tensorflow:From C:\\Users\\User1\\AppData\\Local\\Programs\\Python\\Python36\\lib\\site-packages\\tensorflow\\python\\ops\\resource_variable_ops.py:435: colocate_with (from tensorflow.python.framework.ops) is deprecated and will be removed in a future version.\n",
      "Instructions for updating:\n",
      "Colocations handled automatically by placer.\n",
      "WARNING:tensorflow:From C:\\Users\\User1\\AppData\\Local\\Programs\\Python\\Python36\\lib\\site-packages\\tensorflow\\python\\keras\\utils\\losses_utils.py:170: to_float (from tensorflow.python.ops.math_ops) is deprecated and will be removed in a future version.\n",
      "Instructions for updating:\n",
      "Use tf.cast instead.\n"
     ]
    }
   ],
   "source": [
    "import numpy as np\n",
    "from tensorflow import keras\n",
    "\n",
    "input_path = 'D:\\\\Studia\\\\SEM6\\\\biai\\\\projekt\\\\pretrained_models\\\\'\n",
    "input_file_name = 'beethoven50epoch_no_transpositions_512.h5'\n",
    "\n",
    "model = keras.models.load_model(input_path + input_file_name)"
   ]
  },
  {
   "cell_type": "markdown",
   "metadata": {},
   "source": [
    "### Generate seed"
   ]
  },
  {
   "cell_type": "code",
   "execution_count": 2,
   "metadata": {},
   "outputs": [],
   "source": [
    "import numpy as np\n",
    "\n",
    "INPUT_SIZE = 256\n",
    "# [batch_size, sequence_len, input_dim]\n",
    "# generate random seed\n",
    "seed = np.random.random((1, 1, INPUT_SIZE))"
   ]
  },
  {
   "cell_type": "markdown",
   "metadata": {},
   "source": [
    "### Generate sequence"
   ]
  },
  {
   "cell_type": "code",
   "execution_count": 3,
   "metadata": {},
   "outputs": [
    {
     "name": "stdout",
     "output_type": "stream",
     "text": [
      "(1, 1, 256)\n",
      "(1, 2, 256)\n",
      "(1, 3, 256)\n",
      "(1, 4, 256)\n",
      "(1, 5, 256)\n",
      "(1, 6, 256)\n",
      "(1, 7, 256)\n",
      "(1, 8, 256)\n",
      "(1, 9, 256)\n",
      "(1, 10, 256)\n",
      "(1, 11, 256)\n",
      "(1, 12, 256)\n",
      "(1, 13, 256)\n",
      "(1, 14, 256)\n",
      "(1, 15, 256)\n",
      "(1, 16, 256)\n",
      "(1, 17, 256)\n",
      "(1, 18, 256)\n",
      "(1, 19, 256)\n",
      "(1, 20, 256)\n",
      "(1, 21, 256)\n",
      "(1, 22, 256)\n",
      "(1, 23, 256)\n",
      "(1, 24, 256)\n",
      "(1, 25, 256)\n",
      "(1, 26, 256)\n",
      "(1, 27, 256)\n",
      "(1, 28, 256)\n",
      "(1, 29, 256)\n",
      "(1, 30, 256)\n",
      "(1, 31, 256)\n",
      "(1, 32, 256)\n",
      "(1, 33, 256)\n",
      "(1, 34, 256)\n",
      "(1, 35, 256)\n",
      "(1, 36, 256)\n",
      "(1, 37, 256)\n",
      "(1, 38, 256)\n",
      "(1, 39, 256)\n",
      "(1, 40, 256)\n",
      "(1, 41, 256)\n",
      "(1, 42, 256)\n",
      "(1, 43, 256)\n",
      "(1, 44, 256)\n",
      "(1, 45, 256)\n",
      "(1, 46, 256)\n",
      "(1, 47, 256)\n",
      "(1, 48, 256)\n",
      "(1, 49, 256)\n",
      "(1, 50, 256)\n",
      "(1, 51, 256)\n",
      "(1, 52, 256)\n",
      "(1, 53, 256)\n",
      "(1, 54, 256)\n",
      "(1, 55, 256)\n",
      "(1, 56, 256)\n",
      "(1, 57, 256)\n",
      "(1, 58, 256)\n",
      "(1, 59, 256)\n",
      "(1, 60, 256)\n",
      "(1, 61, 256)\n",
      "(1, 62, 256)\n",
      "(1, 63, 256)\n",
      "(1, 64, 256)\n",
      "(1, 65, 256)\n",
      "(1, 66, 256)\n",
      "(1, 67, 256)\n",
      "(1, 68, 256)\n",
      "(1, 69, 256)\n",
      "(1, 70, 256)\n",
      "(1, 71, 256)\n",
      "(1, 72, 256)\n",
      "(1, 73, 256)\n",
      "(1, 74, 256)\n",
      "(1, 75, 256)\n",
      "(1, 76, 256)\n",
      "(1, 77, 256)\n",
      "(1, 78, 256)\n",
      "(1, 79, 256)\n",
      "(1, 80, 256)\n",
      "(1, 81, 256)\n",
      "(1, 82, 256)\n",
      "(1, 83, 256)\n",
      "(1, 84, 256)\n",
      "(1, 85, 256)\n",
      "(1, 86, 256)\n",
      "(1, 87, 256)\n",
      "(1, 88, 256)\n",
      "(1, 89, 256)\n",
      "(1, 90, 256)\n",
      "(1, 91, 256)\n",
      "(1, 92, 256)\n",
      "(1, 93, 256)\n",
      "(1, 94, 256)\n",
      "(1, 95, 256)\n",
      "(1, 96, 256)\n",
      "(1, 97, 256)\n",
      "(1, 98, 256)\n",
      "(1, 99, 256)\n",
      "(1, 100, 256)\n"
     ]
    },
    {
     "data": {
      "text/plain": [
       "(1, 100, 256)"
      ]
     },
     "execution_count": 3,
     "metadata": {},
     "output_type": "execute_result"
    }
   ],
   "source": [
    "# at default 1 frame = 0.025s\n",
    "SEQUENCE_LENGTH = 100\n",
    "\n",
    "x = seed\n",
    "for _ in range(SEQUENCE_LENGTH):\n",
    "    print(x.shape)\n",
    "    res = model.predict(x, batch_size=1)\n",
    "    x = np.concatenate([seed, res], axis=1)\n",
    "    \n",
    "res.shape"
   ]
  },
  {
   "cell_type": "markdown",
   "metadata": {},
   "source": [
    "### Save to midi format"
   ]
  },
  {
   "cell_type": "code",
   "execution_count": 17,
   "metadata": {},
   "outputs": [
    {
     "name": "stdout",
     "output_type": "stream",
     "text": [
      "0.0\n",
      "(100, 256)\n",
      "<midi file None type 1, 1 tracks, 2 messages>\n"
     ]
    }
   ],
   "source": [
    "# from midi_numpy.common import save_numpy_midi\n",
    "from midi_numpy.numpy_to_midi import pipe_reverse as numpy2midi\n",
    "from datetime import datetime\n",
    "\n",
    "tim = str(datetime.now()).replace(' ', '_').replace(':', '_')\n",
    "output_path = 'D:\\\\Studia\\\\SEM6\\\\biai\\\\projekt\\\\pretrained_models\\\\'\n",
    "output_file_name = f'sample_{SEQUENCE_LENGTH}_{tim}.mid'\n",
    "\n",
    "# save_numpy_midi(, np.squeeze(res, axis=0))\n",
    "if len(res.shape) == 3:\n",
    "    res = np.squeeze(res, axis=0)\n",
    "res = res.round()\n",
    "res.shape\n",
    "\n",
    "print(res[:, :128].max())\n",
    "print(res.shape)\n",
    "mid = numpy2midi(res)\n",
    "mid.tracks[0].append(Message('note_on', note=64, velocity=127, time=123))\n",
    "mid.tracks[0].append(Message('note_on', note=64, velocity=0, time=123))\n",
    "print(mid)\n",
    "mid.save(output_path + output_file_name)"
   ]
  },
  {
   "cell_type": "code",
   "execution_count": null,
   "metadata": {},
   "outputs": [],
   "source": []
  }
 ],
 "metadata": {
  "kernelspec": {
   "display_name": "Python 3.6",
   "language": "python",
   "name": "python3"
  },
  "language_info": {
   "codemirror_mode": {
    "name": "ipython",
    "version": 3
   },
   "file_extension": ".py",
   "mimetype": "text/x-python",
   "name": "python",
   "nbconvert_exporter": "python",
   "pygments_lexer": "ipython3",
   "version": "3.6.6"
  }
 },
 "nbformat": 4,
 "nbformat_minor": 2
}
