{
 "cells": [
  {
   "cell_type": "markdown",
   "metadata": {},
   "source": [
    "## Sample generation\n",
    "#### load trained model -> generate samples"
   ]
  },
  {
   "cell_type": "code",
   "execution_count": 56,
   "metadata": {},
   "outputs": [],
   "source": [
    "import numpy as np\n",
    "from tensorflow import keras\n",
    "\n",
    "input_path = 'D:\\\\Studia\\\\SEM6\\\\biai\\\\projekt\\\\pretrained_models\\\\'\n",
    "input_file_name = 'beth_transp_randchunk_rmsprop_1024_5epochs_14.0m.h5'\n",
    "\n",
    "model = keras.models.load_model(input_path + input_file_name)"
   ]
  },
  {
   "cell_type": "markdown",
   "metadata": {},
   "source": [
    "### Generate seed"
   ]
  },
  {
   "cell_type": "code",
   "execution_count": 65,
   "metadata": {},
   "outputs": [],
   "source": [
    "import numpy as np\n",
    "\n",
    "INPUT_SIZE = 128\n",
    "# [batch_size, sequence_len, input_dim]\n",
    "# generate random seed\n",
    "seed = np.random.random((1, 1, INPUT_SIZE)) * 0.5\n",
    "# seed = np.zeros((1, 1, INPUT_SIZE))\n",
    "# seed[:,:,60:80] = np.random.randint(0, 2, size=20)"
   ]
  },
  {
   "cell_type": "markdown",
   "metadata": {},
   "source": [
    "### Generate sequence"
   ]
  },
  {
   "cell_type": "code",
   "execution_count": 66,
   "metadata": {},
   "outputs": [
    {
     "name": "stdout",
     "output_type": "stream",
     "text": [
      "0,1,2,3,4,5,6,7,8,9,10,11,12,13,14,15,16,17,18,19,20,21,22,23,24,25,26,27,28,29,30,31,32,33,34,35,36,37,38,39,40,41,42,43,44,45,46,47,48,49,50,51,52,53,54,55,56,57,58,59,60,61,62,63,64,65,66,67,68,69,70,71,72,73,74,75,76,77,78,79,80,81,82,83,84,85,86,87,88,89,90,91,92,93,94,95,96,97,98,99,"
     ]
    },
    {
     "data": {
      "text/plain": [
       "(1, 100, 128)"
      ]
     },
     "execution_count": 66,
     "metadata": {},
     "output_type": "execute_result"
    }
   ],
   "source": [
    "# at default 1 frame = 0.025s\n",
    "SEQUENCE_LENGTH = 100\n",
    "\n",
    "x = seed\n",
    "for i in range(SEQUENCE_LENGTH):\n",
    "    print(i, end=',')\n",
    "    res = model.predict(x, batch_size=1)\n",
    "    x = np.concatenate([seed, res], axis=1)\n",
    "    \n",
    "res.shape"
   ]
  },
  {
   "cell_type": "markdown",
   "metadata": {},
   "source": [
    "### Save to midi format"
   ]
  },
  {
   "cell_type": "code",
   "execution_count": 67,
   "metadata": {},
   "outputs": [],
   "source": [
    "res = res.round()\n",
    "res = np.squeeze(res, axis=0)\n",
    "res[0] = np.zeros(INPUT_SIZE)\n",
    "res = np.append(res, np.zeros((1, INPUT_SIZE)), axis=0)"
   ]
  },
  {
   "cell_type": "code",
   "execution_count": 69,
   "metadata": {},
   "outputs": [
    {
     "name": "stdout",
     "output_type": "stream",
     "text": [
      "(101, 128)\n",
      "note_on channel=0 note=24 velocity=127 time=25\n",
      "note_on channel=0 note=25 velocity=127 time=0\n",
      "note_on channel=0 note=28 velocity=127 time=0\n",
      "note_on channel=0 note=32 velocity=127 time=0\n",
      "note_on channel=0 note=33 velocity=127 time=0\n",
      "note_on channel=0 note=34 velocity=127 time=0\n",
      "note_on channel=0 note=35 velocity=127 time=0\n",
      "note_on channel=0 note=36 velocity=127 time=0\n",
      "note_on channel=0 note=37 velocity=127 time=0\n",
      "note_on channel=0 note=38 velocity=127 time=0\n",
      "note_on channel=0 note=39 velocity=127 time=0\n",
      "note_on channel=0 note=40 velocity=127 time=0\n",
      "note_on channel=0 note=41 velocity=127 time=0\n",
      "note_on channel=0 note=42 velocity=127 time=0\n",
      "note_on channel=0 note=43 velocity=127 time=0\n",
      "note_on channel=0 note=44 velocity=127 time=0\n",
      "note_on channel=0 note=46 velocity=127 time=0\n",
      "note_on channel=0 note=49 velocity=127 time=0\n",
      "note_on channel=0 note=53 velocity=127 time=0\n",
      "note_on channel=0 note=59 velocity=127 time=0\n",
      "note_on channel=0 note=61 velocity=127 time=0\n",
      "note_on channel=0 note=62 velocity=127 time=0\n",
      "note_on channel=0 note=63 velocity=127 time=0\n",
      "note_on channel=0 note=65 velocity=127 time=0\n",
      "note_on channel=0 note=66 velocity=127 time=0\n",
      "note_on channel=0 note=70 velocity=127 time=0\n",
      "note_on channel=0 note=71 velocity=127 time=0\n",
      "note_on channel=0 note=73 velocity=127 time=0\n",
      "note_on channel=0 note=74 velocity=127 time=0\n",
      "note_on channel=0 note=75 velocity=127 time=0\n",
      "note_on channel=0 note=76 velocity=127 time=0\n",
      "note_on channel=0 note=78 velocity=127 time=0\n",
      "note_on channel=0 note=79 velocity=127 time=0\n",
      "note_on channel=0 note=80 velocity=127 time=0\n",
      "note_on channel=0 note=81 velocity=127 time=0\n",
      "note_on channel=0 note=83 velocity=127 time=0\n",
      "note_on channel=0 note=84 velocity=127 time=0\n",
      "note_on channel=0 note=86 velocity=127 time=0\n",
      "note_on channel=0 note=87 velocity=127 time=0\n",
      "note_on channel=0 note=88 velocity=127 time=0\n",
      "note_on channel=0 note=90 velocity=127 time=0\n",
      "note_on channel=0 note=91 velocity=127 time=0\n",
      "note_on channel=0 note=92 velocity=127 time=0\n",
      "note_on channel=0 note=95 velocity=127 time=0\n",
      "note_on channel=0 note=96 velocity=127 time=0\n",
      "note_on channel=0 note=45 velocity=127 time=25\n",
      "note_on channel=0 note=93 velocity=127 time=0\n",
      "note_on channel=0 note=34 velocity=0 time=0\n",
      "note_on channel=0 note=39 velocity=0 time=0\n",
      "note_on channel=0 note=46 velocity=0 time=0\n",
      "note_on channel=0 note=63 velocity=0 time=0\n",
      "note_on channel=0 note=65 velocity=0 time=0\n",
      "note_on channel=0 note=66 velocity=0 time=0\n",
      "note_on channel=0 note=70 velocity=0 time=0\n",
      "note_on channel=0 note=73 velocity=0 time=0\n",
      "note_on channel=0 note=74 velocity=0 time=0\n",
      "note_on channel=0 note=76 velocity=0 time=0\n",
      "note_on channel=0 note=79 velocity=0 time=0\n",
      "note_on channel=0 note=91 velocity=0 time=0\n",
      "note_on channel=0 note=95 velocity=0 time=0\n",
      "note_on channel=0 note=20 velocity=127 time=25\n",
      "note_on channel=0 note=31 velocity=127 time=0\n",
      "note_on channel=0 note=39 velocity=127 time=0\n",
      "note_on channel=0 note=46 velocity=127 time=0\n",
      "note_on channel=0 note=63 velocity=127 time=0\n",
      "note_on channel=0 note=65 velocity=127 time=0\n",
      "note_on channel=0 note=66 velocity=127 time=0\n",
      "note_on channel=0 note=70 velocity=127 time=0\n",
      "note_on channel=0 note=73 velocity=127 time=0\n",
      "note_on channel=0 note=74 velocity=127 time=0\n",
      "note_on channel=0 note=91 velocity=127 time=0\n",
      "note_on channel=0 note=95 velocity=127 time=0\n",
      "note_on channel=0 note=100 velocity=127 time=0\n",
      "note_on channel=0 note=39 velocity=0 time=25\n",
      "note_on channel=0 note=63 velocity=0 time=0\n",
      "note_on channel=0 note=70 velocity=0 time=0\n",
      "note_on channel=0 note=73 velocity=0 time=0\n",
      "note_on channel=0 note=95 velocity=0 time=0\n",
      "note_on channel=0 note=100 velocity=0 time=0\n",
      "note_on channel=0 note=1 velocity=127 time=25\n",
      "note_on channel=0 note=100 velocity=127 time=0\n",
      "note_on channel=0 note=117 velocity=127 time=0\n",
      "note_on channel=0 note=126 velocity=127 time=0\n",
      "note_on channel=0 note=52 velocity=127 time=25\n",
      "note_on channel=0 note=58 velocity=127 time=0\n",
      "note_on channel=0 note=89 velocity=127 time=0\n",
      "note_on channel=0 note=35 velocity=0 time=0\n",
      "note_on channel=0 note=92 velocity=0 time=0\n",
      "note_on channel=0 note=117 velocity=0 time=0\n",
      "note_on channel=0 note=1 velocity=0 time=25\n",
      "note_on channel=0 note=126 velocity=0 time=0\n",
      "note_on channel=0 note=28 velocity=0 time=25\n",
      "note_on channel=0 note=100 velocity=0 time=0\n",
      "note_on channel=0 note=44 velocity=0 time=25\n",
      "note_on channel=0 note=71 velocity=0 time=0\n",
      "note_on channel=0 note=28 velocity=127 time=100\n",
      "note_on channel=0 note=83 velocity=0 time=0\n",
      "note_on channel=0 note=70 velocity=127 time=25\n",
      "note_on channel=0 note=77 velocity=127 time=0\n",
      "note_on channel=0 note=80 velocity=0 time=50\n",
      "note_on channel=0 note=83 velocity=127 time=25\n",
      "note_on channel=0 note=41 velocity=0 time=50\n",
      "note_on channel=0 note=58 velocity=0 time=0\n",
      "note_on channel=0 note=46 velocity=0 time=25\n",
      "note_on channel=0 note=83 velocity=0 time=0\n",
      "note_on channel=0 note=77 velocity=0 time=25\n",
      "note_on channel=0 note=90 velocity=0 time=0\n",
      "note_on channel=0 note=20 velocity=0 time=25\n",
      "note_on channel=0 note=93 velocity=0 time=25\n",
      "note_on channel=0 note=53 velocity=0 time=25\n",
      "note_on channel=0 note=94 velocity=127 time=25\n",
      "note_on channel=0 note=62 velocity=0 time=25\n",
      "note_on channel=0 note=52 velocity=0 time=100\n",
      "note_on channel=0 note=38 velocity=0 time=150\n",
      "note_on channel=0 note=44 velocity=127 time=75\n",
      "note_on channel=0 note=38 velocity=127 time=675\n",
      "note_on channel=0 note=24 velocity=0 time=850\n",
      "note_on channel=0 note=25 velocity=0 time=0\n",
      "note_on channel=0 note=28 velocity=0 time=0\n",
      "note_on channel=0 note=31 velocity=0 time=0\n",
      "note_on channel=0 note=32 velocity=0 time=0\n",
      "note_on channel=0 note=33 velocity=0 time=0\n",
      "note_on channel=0 note=36 velocity=0 time=0\n",
      "note_on channel=0 note=37 velocity=0 time=0\n",
      "note_on channel=0 note=38 velocity=0 time=0\n",
      "note_on channel=0 note=40 velocity=0 time=0\n",
      "note_on channel=0 note=42 velocity=0 time=0\n",
      "note_on channel=0 note=43 velocity=0 time=0\n",
      "note_on channel=0 note=44 velocity=0 time=0\n",
      "note_on channel=0 note=45 velocity=0 time=0\n",
      "note_on channel=0 note=49 velocity=0 time=0\n",
      "note_on channel=0 note=59 velocity=0 time=0\n",
      "note_on channel=0 note=61 velocity=0 time=0\n",
      "note_on channel=0 note=65 velocity=0 time=0\n",
      "note_on channel=0 note=66 velocity=0 time=0\n",
      "note_on channel=0 note=70 velocity=0 time=0\n",
      "note_on channel=0 note=74 velocity=0 time=0\n",
      "note_on channel=0 note=75 velocity=0 time=0\n",
      "note_on channel=0 note=78 velocity=0 time=0\n",
      "note_on channel=0 note=81 velocity=0 time=0\n",
      "note_on channel=0 note=84 velocity=0 time=0\n",
      "note_on channel=0 note=86 velocity=0 time=0\n",
      "note_on channel=0 note=87 velocity=0 time=0\n",
      "note_on channel=0 note=88 velocity=0 time=0\n",
      "note_on channel=0 note=89 velocity=0 time=0\n",
      "note_on channel=0 note=91 velocity=0 time=0\n",
      "note_on channel=0 note=94 velocity=0 time=0\n",
      "note_on channel=0 note=96 velocity=0 time=0\n"
     ]
    }
   ],
   "source": [
    "# from midi_numpy.common import save_numpy_midi\n",
    "from midi_numpy.numpy_to_midi import pipe_reverse as numpy2midi\n",
    "from datetime import datetime\n",
    "\n",
    "tim = str(datetime.now()).replace(' ', '_').replace(':', '_')\n",
    "output_path = 'D:\\\\Studia\\\\SEM6\\\\biai\\\\projekt\\\\pretrained_models\\\\'\n",
    "output_file_name = f'sample_{SEQUENCE_LENGTH}_{tim}.mid'\n",
    "\n",
    "# save_numpy_midi(, np.squeeze(res, axis=0))\n",
    "# res = np.append(res, np.zeros((1, INPUT_SIZE)))\n",
    "# if len(res.shape) == 3:\n",
    "#     res = np.squeeze(res, axis=0)\n",
    "\n",
    "print(res.shape)\n",
    "mid = numpy2midi(res)\n",
    "for n in mid.tracks[0]:\n",
    "    print(n)\n",
    "mid.save(output_path + output_file_name)"
   ]
  },
  {
   "cell_type": "code",
   "execution_count": null,
   "metadata": {},
   "outputs": [],
   "source": []
  }
 ],
 "metadata": {
  "kernelspec": {
   "display_name": "Python 3.6",
   "language": "python",
   "name": "python3"
  },
  "language_info": {
   "codemirror_mode": {
    "name": "ipython",
    "version": 3
   },
   "file_extension": ".py",
   "mimetype": "text/x-python",
   "name": "python",
   "nbconvert_exporter": "python",
   "pygments_lexer": "ipython3",
   "version": "3.6.6"
  }
 },
 "nbformat": 4,
 "nbformat_minor": 2
}
