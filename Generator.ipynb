{
 "cells": [
  {
   "cell_type": "markdown",
   "metadata": {},
   "source": [
    "## Sample generation\n",
    "#### load trained model -> generate samples"
   ]
  },
  {
   "cell_type": "code",
   "execution_count": 10,
   "metadata": {},
   "outputs": [],
   "source": [
    "import numpy as np\n",
    "from tensorflow import keras\n",
    "\n",
    "path = 'D:\\\\Studia\\\\SEM6\\\\biai\\\\projekt\\\\pretrained_models\\\\'\n",
    "file_name = 'beethoven50epoch_no_transpositions_512.h5'\n",
    "\n",
    "model = keras.models.load_model(path + file_name)"
   ]
  },
  {
   "cell_type": "markdown",
   "metadata": {},
   "source": [
    "### Generate seed"
   ]
  },
  {
   "cell_type": "code",
   "execution_count": 11,
   "metadata": {},
   "outputs": [],
   "source": [
    "import numpy as np\n",
    "\n",
    "INPUT_SIZE = 256\n",
    "# [batch_size, sequence_len, input_dim]\n",
    "# generate random seed\n",
    "seed = np.random.random((1, 1, INPUT_SIZE))"
   ]
  },
  {
   "cell_type": "markdown",
   "metadata": {},
   "source": [
    "### Generate sequence"
   ]
  },
  {
   "cell_type": "code",
   "execution_count": 18,
   "metadata": {},
   "outputs": [
    {
     "name": "stdout",
     "output_type": "stream",
     "text": [
      "(1, 1, 256)\n",
      "(1, 2, 256)\n",
      "(1, 3, 256)\n"
     ]
    }
   ],
   "source": [
    "# at default 1 frame = 0.025s\n",
    "SEQUENCE_LENGTH = 3\n",
    "\n",
    "x = seed\n",
    "for _ in range(3):\n",
    "    print(x.shape)\n",
    "    res = model.predict(x, batch_size=1)\n",
    "    x = np.concatenate([seed, res], axis=1)\n",
    "    \n"
   ]
  },
  {
   "cell_type": "code",
   "execution_count": null,
   "metadata": {},
   "outputs": [],
   "source": []
  }
 ],
 "metadata": {
  "kernelspec": {
   "display_name": "Python 3.6",
   "language": "python",
   "name": "python3"
  },
  "language_info": {
   "codemirror_mode": {
    "name": "ipython",
    "version": 3
   },
   "file_extension": ".py",
   "mimetype": "text/x-python",
   "name": "python",
   "nbconvert_exporter": "python",
   "pygments_lexer": "ipython3",
   "version": "3.6.6"
  }
 },
 "nbformat": 4,
 "nbformat_minor": 2
}
