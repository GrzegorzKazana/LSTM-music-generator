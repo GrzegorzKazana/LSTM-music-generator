{
 "cells": [
  {
   "cell_type": "markdown",
   "metadata": {},
   "source": [
    "## Sample generation\n",
    "#### load trained model -> generate samples"
   ]
  },
  {
   "cell_type": "code",
   "execution_count": 32,
   "metadata": {},
   "outputs": [],
   "source": [
    "import numpy as np\n",
    "from tensorflow import keras\n",
    "\n",
    "input_path = 'D:\\\\Studia\\\\SEM6\\\\biai\\\\projekt\\\\pretrained_models\\\\'\n",
    "input_file_name = 'beth_transp_1024_20epochs_143.0m.h5'\n",
    "\n",
    "model = keras.models.load_model(input_path + input_file_name)"
   ]
  },
  {
   "cell_type": "markdown",
   "metadata": {},
   "source": [
    "### Generate seed"
   ]
  },
  {
   "cell_type": "code",
   "execution_count": 69,
   "metadata": {},
   "outputs": [],
   "source": [
    "import numpy as np\n",
    "\n",
    "INPUT_SIZE = 128\n",
    "# [batch_size, sequence_len, input_dim]\n",
    "# generate random seed\n",
    "seed = np.random.random((1, 1, INPUT_SIZE)) * 0.5\n",
    "# seed = np.zeros((1, 1, INPUT_SIZE))\n",
    "# seed[:,:,60:80] = np.random.randint(0, 2, size=20)"
   ]
  },
  {
   "cell_type": "markdown",
   "metadata": {},
   "source": [
    "### Generate sequence"
   ]
  },
  {
   "cell_type": "code",
   "execution_count": 70,
   "metadata": {},
   "outputs": [
    {
     "name": "stdout",
     "output_type": "stream",
     "text": [
      "(1, 1, 128),(1, 2, 128),(1, 3, 128),(1, 4, 128),(1, 5, 128),(1, 6, 128),(1, 7, 128),(1, 8, 128),(1, 9, 128),(1, 10, 128),(1, 11, 128),(1, 12, 128),(1, 13, 128),(1, 14, 128),(1, 15, 128),(1, 16, 128),(1, 17, 128),(1, 18, 128),(1, 19, 128),(1, 20, 128),(1, 21, 128),(1, 22, 128),(1, 23, 128),(1, 24, 128),(1, 25, 128),(1, 26, 128),(1, 27, 128),(1, 28, 128),(1, 29, 128),(1, 30, 128),(1, 31, 128),(1, 32, 128),(1, 33, 128),(1, 34, 128),(1, 35, 128),(1, 36, 128),(1, 37, 128),(1, 38, 128),(1, 39, 128),(1, 40, 128),(1, 41, 128),(1, 42, 128),(1, 43, 128),(1, 44, 128),(1, 45, 128),(1, 46, 128),(1, 47, 128),(1, 48, 128),(1, 49, 128),(1, 50, 128),(1, 51, 128),(1, 52, 128),(1, 53, 128),(1, 54, 128),(1, 55, 128),(1, 56, 128),(1, 57, 128),(1, 58, 128),(1, 59, 128),(1, 60, 128),(1, 61, 128),(1, 62, 128),(1, 63, 128),(1, 64, 128),(1, 65, 128),(1, 66, 128),(1, 67, 128),(1, 68, 128),(1, 69, 128),(1, 70, 128),(1, 71, 128),(1, 72, 128),(1, 73, 128),(1, 74, 128),(1, 75, 128),(1, 76, 128),(1, 77, 128),(1, 78, 128),(1, 79, 128),(1, 80, 128),(1, 81, 128),(1, 82, 128),(1, 83, 128),(1, 84, 128),(1, 85, 128),(1, 86, 128),(1, 87, 128),(1, 88, 128),(1, 89, 128),(1, 90, 128),(1, 91, 128),(1, 92, 128),(1, 93, 128),(1, 94, 128),(1, 95, 128),(1, 96, 128),(1, 97, 128),(1, 98, 128),(1, 99, 128),(1, 100, 128),"
     ]
    },
    {
     "data": {
      "text/plain": [
       "(1, 100, 128)"
      ]
     },
     "execution_count": 70,
     "metadata": {},
     "output_type": "execute_result"
    }
   ],
   "source": [
    "# at default 1 frame = 0.025s\n",
    "SEQUENCE_LENGTH = 100\n",
    "\n",
    "x = seed\n",
    "for i in range(SEQUENCE_LENGTH):\n",
    "    print(i, end=',')\n",
    "    res = model.predict(x, batch_size=1)\n",
    "    x = np.concatenate([seed, res], axis=1)\n",
    "    \n",
    "res.shape"
   ]
  },
  {
   "cell_type": "markdown",
   "metadata": {},
   "source": [
    "### Save to midi format"
   ]
  },
  {
   "cell_type": "code",
   "execution_count": 71,
   "metadata": {},
   "outputs": [],
   "source": [
    "res = res.round()\n",
    "res = np.squeeze(res, axis=0)\n",
    "res[0] = np.zeros(INPUT_SIZE)\n",
    "res = np.append(res, np.zeros((1, INPUT_SIZE)), axis=0)"
   ]
  },
  {
   "cell_type": "code",
   "execution_count": 72,
   "metadata": {},
   "outputs": [
    {
     "name": "stdout",
     "output_type": "stream",
     "text": [
      "[[0. 0. 0. ... 0. 0. 0.]\n",
      " [0. 0. 0. ... 0. 0. 0.]\n",
      " [0. 0. 0. ... 0. 0. 0.]\n",
      " ...\n",
      " [0. 0. 0. ... 0. 0. 0.]\n",
      " [0. 0. 0. ... 0. 0. 0.]\n",
      " [0. 0. 0. ... 0. 0. 0.]]\n",
      "[0. 0. 0. 0. 0. 0. 0. 0. 0. 0. 0. 0. 0. 0. 0. 0. 0. 0. 0. 0. 0. 0. 0. 0.\n",
      " 0. 0. 0. 0. 0. 0. 0. 0. 0. 0. 0. 0. 0. 0. 0. 0. 0. 0. 0. 0. 0. 0. 0. 0.\n",
      " 0. 0. 0. 0. 0. 0. 0. 0. 0. 0. 0. 0. 0. 0. 0. 0. 0. 0. 0. 0. 0. 0. 0. 0.\n",
      " 0. 0. 0. 0. 0. 0. 0. 0. 0. 0. 0. 0. 0. 0. 0. 0. 0. 0. 0. 0. 0. 0. 0. 0.\n",
      " 0. 0. 0. 0. 0. 0. 0. 0. 0. 0. 0. 0. 0. 0. 0. 0. 0. 0. 0. 0. 0. 0. 0. 0.\n",
      " 0. 0. 0. 0. 0. 0. 0. 0.]\n"
     ]
    }
   ],
   "source": [
    "print(res)\n",
    "print(res[100])"
   ]
  },
  {
   "cell_type": "code",
   "execution_count": 73,
   "metadata": {},
   "outputs": [
    {
     "name": "stdout",
     "output_type": "stream",
     "text": [
      "(101, 128)\n",
      "note_on channel=0 note=36 velocity=127 time=25\n",
      "note_on channel=0 note=44 velocity=127 time=0\n",
      "note_on channel=0 note=48 velocity=127 time=0\n",
      "note_on channel=0 note=44 velocity=0 time=50\n",
      "note_on channel=0 note=48 velocity=0 time=100\n",
      "note_on channel=0 note=36 velocity=0 time=250\n"
     ]
    }
   ],
   "source": [
    "# from midi_numpy.common import save_numpy_midi\n",
    "from midi_numpy.numpy_to_midi import pipe_reverse as numpy2midi\n",
    "from datetime import datetime\n",
    "\n",
    "tim = str(datetime.now()).replace(' ', '_').replace(':', '_')\n",
    "output_path = 'D:\\\\Studia\\\\SEM6\\\\biai\\\\projekt\\\\pretrained_models\\\\'\n",
    "output_file_name = f'sample_{SEQUENCE_LENGTH}_{tim}.mid'\n",
    "\n",
    "# save_numpy_midi(, np.squeeze(res, axis=0))\n",
    "# res = np.append(res, np.zeros((1, INPUT_SIZE)))\n",
    "# if len(res.shape) == 3:\n",
    "#     res = np.squeeze(res, axis=0)\n",
    "\n",
    "print(res.shape)\n",
    "mid = numpy2midi(res)\n",
    "for n in mid.tracks[0]:\n",
    "    print(n)\n",
    "mid.save(output_path + output_file_name)"
   ]
  },
  {
   "cell_type": "code",
   "execution_count": null,
   "metadata": {},
   "outputs": [],
   "source": []
  }
 ],
 "metadata": {
  "kernelspec": {
   "display_name": "Python 3.6",
   "language": "python",
   "name": "python3"
  },
  "language_info": {
   "codemirror_mode": {
    "name": "ipython",
    "version": 3
   },
   "file_extension": ".py",
   "mimetype": "text/x-python",
   "name": "python",
   "nbconvert_exporter": "python",
   "pygments_lexer": "ipython3",
   "version": "3.6.6"
  }
 },
 "nbformat": 4,
 "nbformat_minor": 2
}
