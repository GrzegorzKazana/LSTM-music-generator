{
 "cells": [
  {
   "cell_type": "markdown",
   "metadata": {},
   "source": [
    "## Sample generation\n",
    "#### load trained model -> generate samples"
   ]
  },
  {
   "cell_type": "code",
   "execution_count": 12,
   "metadata": {},
   "outputs": [],
   "source": [
    "IGNORE_NOTE_VELOCITY = True\n",
    "TARGET_IS_SEQUENCE = True\n",
    "MAX_WINDOW_SIZE = 100\n",
    "\n",
    "import numpy as np\n",
    "# from tensorflow import keras\n",
    "\n",
    "INPUT_SIZE = 128 if IGNORE_NOTE_VELOCITY else 256\n",
    "# [batch_size, sequence_len, input_dim]\n",
    "\n",
    "input_path = 'D:\\\\Studia\\\\SEM6\\\\biai\\\\projekt\\\\pretrained_models\\\\'\n",
    "input_file_name = 'beth_notransp_randchunk_bcr_512_32epochs_108.0m.h5'\n",
    "\n",
    "# model = keras.models.load_model(input_path + input_file_name)"
   ]
  },
  {
   "cell_type": "markdown",
   "metadata": {},
   "source": [
    "### Generate seed"
   ]
  },
  {
   "cell_type": "code",
   "execution_count": 170,
   "metadata": {},
   "outputs": [
    {
     "data": {
      "text/plain": [
       "[7, -11, -5, 2, -12, -5, 4, 2, 11, 4, 2, 7]"
      ]
     },
     "execution_count": 170,
     "metadata": {},
     "output_type": "execute_result"
    }
   ],
   "source": [
    "import numpy as np\n",
    "import random\n",
    "\n",
    "# helpers\n",
    "scales = {\n",
    "    \"natural_minor\": [0, 2, 3, 5, 7, 8, 10, 12],\n",
    "    \"harmonic_minor\": [0, 2, 3, 5, 7, 8, 11, 12],\n",
    "    \"melodic_minor\": [0, 2, 3, 5, 7, 9, 11, 12],\n",
    "    \"major\": [0, 2, 4, 5, 7, 9, 11, 12],\n",
    "    \"dorian\": [0, 2, 4, 5, 7, 9, 10, 12],\n",
    "    \"mixolydian\": [0, 2, 4, 5, 7, 9, 10, 12],\n",
    "    \"pentatonic\": [0, 3, 5, 7, 10, 12],\n",
    "}\n",
    "\n",
    "def get_random_scale():\n",
    "    return random.choice(list(scales.values()))\n",
    "\n",
    "def get_random_notes_from_random_scale(base_note, n_notes=1):\n",
    "    scale = get_random_scale()\n",
    "    two_octave_scale = scale + [-x for x in scale]\n",
    "    return [base_note + random.choice(two_octave_scale) for _ in range(n_notes)]\n",
    "\n",
    "get_random_notes_from_random_scale(0, 12)"
   ]
  },
  {
   "cell_type": "code",
   "execution_count": null,
   "metadata": {},
   "outputs": [],
   "source": [
    "def random_noise_seed(length=MAX_WINDOW_SIZE, batch_size=16):\n",
    "    return np.random.random((batch_size, length, INPUT_SIZE)) * 0.5"
   ]
  },
  {
   "cell_type": "code",
   "execution_count": null,
   "metadata": {},
   "outputs": [],
   "source": [
    "def zero_seed(length=MAX_WINDOW_SIZE, batch_size=16):\n",
    "    return np.zeros((batch_size, length, INPUT_SIZE))"
   ]
  },
  {
   "cell_type": "code",
   "execution_count": 20,
   "metadata": {},
   "outputs": [],
   "source": [
    "# notes in middle range have highier values\n",
    "# taken from normal distribution for each \"hand\"\n",
    "# mu1 = 76, mu2 = 48, std = 12\n",
    "def random_normal_noise_seed(length=MAX_WINDOW_SIZE, batch_size=16):\n",
    "    mu1 = 76\n",
    "    mu2 = 48\n",
    "    std = 12\n",
    "    hand1 = np.exp(-(np.arange(128) - mu1) ** 2 / (2 * std ** 2))\n",
    "    hand2 = np.exp(-(np.arange(128) - mu2) ** 2 / (2 * std ** 2))\n",
    "    hands = hand1 + hand2\n",
    "    randomness = np.random.random(((batch_size, length, INPUT_SIZE))) * 0.5\n",
    "    return randomness * hands"
   ]
  },
  {
   "cell_type": "code",
   "execution_count": 83,
   "metadata": {},
   "outputs": [],
   "source": [
    "def single_note_seed(length=MAX_WINDOW_SIZE, batch_size=16):\n",
    "    res = np.zeros((batch_size, length, INPUT_SIZE))\n",
    "    note = int(np.random.normal(72, 16))\n",
    "    res[:, :, note] = 1\n",
    "    print(note)\n",
    "    return res"
   ]
  },
  {
   "cell_type": "code",
   "execution_count": 84,
   "metadata": {},
   "outputs": [],
   "source": [
    "def single_note_noise_seed(length=MAX_WINDOW_SIZE, batch_size=16):\n",
    "    noise_ratio = 0.5\n",
    "    res = (noise_ratio * random_normal_noise_seed(length, batch_size) \n",
    "        + single_note_seed(length, batch_size))\n",
    "    return np.clip(res, 0, 1)"
   ]
  },
  {
   "cell_type": "code",
   "execution_count": 171,
   "metadata": {},
   "outputs": [],
   "source": [
    "def multi_note_seed(length=MAX_WINDOW_SIZE, batch_size=16, num_notes=5):\n",
    "    res = np.zeros((batch_size, length, INPUT_SIZE))\n",
    "    notes = np.random.normal(72, 16, size=num_notes).round().astype(int)\n",
    "    note_change_times = np.sort(np.random.choice(np.arange(length), size=num_notes + 1))\n",
    "    for i, note in enumerate(notes):\n",
    "        res[:, note_change_times[i]:note_change_times[i+1], note] = 1\n",
    "    return res\n",
    "\n",
    "def multi_note_harmonic_seed(length=MAX_WINDOW_SIZE, batch_size=16, num_notes=5):\n",
    "    res = np.zeros((batch_size, length, INPUT_SIZE))\n",
    "    base_note = 72\n",
    "    notes = get_random_notes_from_random_scale(base_note, num_notes)\n",
    "    note_change_times = np.sort(np.random.choice(np.arange(length), size=num_notes + 1))\n",
    "    for i, note in enumerate(notes):\n",
    "        res[:, note_change_times[i]:note_change_times[i+1], note] = 1\n",
    "    return res"
   ]
  },
  {
   "cell_type": "code",
   "execution_count": 175,
   "metadata": {},
   "outputs": [],
   "source": [
    "def multi_note_simult_seed(length=MAX_WINDOW_SIZE, batch_size=16, num_notes=15, max_note_length=25):\n",
    "    res = np.zeros((batch_size, length, INPUT_SIZE))\n",
    "    notes = np.random.normal(72, 16, size=num_notes).round().astype(int)\n",
    "    for i, note in enumerate(notes):\n",
    "        note_on = np.random.randint(length)\n",
    "        note_off = np.random.randint(note_on, min(note_on + max_note_length, length))\n",
    "        res[:, note_on:note_off, note] = 1\n",
    "    return res\n",
    "\n",
    "def multi_note_simult_harmonic_seed(length=MAX_WINDOW_SIZE, batch_size=16, num_notes=15, max_note_length=25):\n",
    "    res = np.zeros((batch_size, length, INPUT_SIZE))\n",
    "    base_note = 72\n",
    "    notes = get_random_notes_from_random_scale(base_note, num_notes)\n",
    "    for i, note in enumerate(notes):\n",
    "        note_on = np.random.randint(length)\n",
    "        note_off = np.random.randint(note_on, min(note_on + max_note_length, length))\n",
    "        res[:, note_on:note_off, note] = 1\n",
    "    return res"
   ]
  },
  {
   "cell_type": "code",
   "execution_count": 176,
   "metadata": {},
   "outputs": [
    {
     "data": {
      "image/png": "[encoded data removed]",
      "text/plain": [
       "<Figure size 432x288 with 1 Axes>"
      ]
     },
     "metadata": {
      "needs_background": "light"
     },
     "output_type": "display_data"
    }
   ],
   "source": [
    "import matplotlib.pyplot as plt\n",
    "\n",
    "x = multi_note_simult_harmonic_seed(batch_size=1)\n",
    "\n",
    "plt.imshow(x[0].T[::-1, :])\n",
    "plt.show()"
   ]
  },
  {
   "cell_type": "markdown",
   "metadata": {},
   "source": [
    "### Generate sequence"
   ]
  },
  {
   "cell_type": "code",
   "execution_count": null,
   "metadata": {},
   "outputs": [],
   "source": [
    "# at default 1 frame = 0.025s\n",
    "SEQUENCE_LENGTH = 200\n",
    "\n",
    "x = seed\n",
    "for i in range(SEQUENCE_LENGTH):\n",
    "    print(i, end=',')\n",
    "    res = model.predict(x, batch_size=1)\n",
    "    x = np.concatenate([x, res[np.newaxis]], axis=1)\n",
    "    \n",
    "res = x\n",
    "res.shape"
   ]
  },
  {
   "cell_type": "markdown",
   "metadata": {},
   "source": [
    "### Save to midi format"
   ]
  },
  {
   "cell_type": "code",
   "execution_count": null,
   "metadata": {},
   "outputs": [],
   "source": [
    "res = res.round()\n",
    "res = np.squeeze(res, axis=0)\n",
    "res[0] = np.zeros(INPUT_SIZE)\n",
    "res = np.append(res, np.zeros((1, INPUT_SIZE)), axis=0)"
   ]
  },
  {
   "cell_type": "code",
   "execution_count": null,
   "metadata": {},
   "outputs": [],
   "source": [
    "import matplotlib.pyplot as plt\n",
    "plt.imshow(res.T[::-1,:])\n",
    "plt.show()"
   ]
  },
  {
   "cell_type": "code",
   "execution_count": null,
   "metadata": {},
   "outputs": [],
   "source": [
    "# from midi_numpy.common import save_numpy_midi\n",
    "from midi_numpy.numpy_to_midi import pipe_reverse as numpy2midi\n",
    "from datetime import datetime\n",
    "\n",
    "tim = str(datetime.now()).replace(' ', '_').replace(':', '_')\n",
    "output_path = 'D:\\\\Studia\\\\SEM6\\\\biai\\\\projekt\\\\pretrained_models\\\\'\n",
    "output_file_name = f'sample_{SEQUENCE_LENGTH}_{tim}.mid'\n",
    "\n",
    "# save_numpy_midi(, np.squeeze(res, axis=0))\n",
    "# res = np.append(res, np.zeros((1, INPUT_SIZE)))\n",
    "# if len(res.shape) == 3:\n",
    "#     res = np.squeeze(res, axis=0)\n",
    "\n",
    "print(res.shape)\n",
    "mid = numpy2midi(res)\n",
    "for n in mid.tracks[0]:\n",
    "    print(n)\n",
    "# mid.save(output_path + output_file_name)"
   ]
  },
  {
   "cell_type": "code",
   "execution_count": null,
   "metadata": {},
   "outputs": [],
   "source": []
  }
 ],
 "metadata": {
  "kernelspec": {
   "display_name": "Python 3.6",
   "language": "python",
   "name": "python3"
  },
  "language_info": {
   "codemirror_mode": {
    "name": "ipython",
    "version": 3
   },
   "file_extension": ".py",
   "mimetype": "text/x-python",
   "name": "python",
   "nbconvert_exporter": "python",
   "pygments_lexer": "ipython3",
   "version": "3.6.6"
  }
 },
 "nbformat": 4,
 "nbformat_minor": 2
}
