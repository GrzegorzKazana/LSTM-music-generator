{
 "cells": [
  {
   "cell_type": "markdown",
   "metadata": {},
   "source": [
    "## Sample generation\n",
    "#### load trained model -> generate samples"
   ]
  },
  {
   "cell_type": "code",
   "execution_count": null,
   "metadata": {},
   "outputs": [],
   "source": [
    "import numpy as np\n",
    "from tensorflow import keras\n",
    "\n",
    "input_path = 'D:\\\\Studia\\\\SEM6\\\\biai\\\\projekt\\\\pretrained_models\\\\'\n",
    "input_file_name = 'beth_notransp_randchunk_weighted_smallbatch_1024_121epochs_103.0m.h5'\n",
    "\n",
    "model = keras.models.load_model(input_path + input_file_name)"
   ]
  },
  {
   "cell_type": "markdown",
   "metadata": {},
   "source": [
    "### Generate seed"
   ]
  },
  {
   "cell_type": "code",
   "execution_count": null,
   "metadata": {},
   "outputs": [],
   "source": [
    "import numpy as np\n",
    "\n",
    "INPUT_SIZE = 128\n",
    "# [batch_size, sequence_len, input_dim]\n",
    "# generate random seed\n",
    "# seed = np.random.random((1, 1, INPUT_SIZE)) * 0.2\n",
    "seed = np.zeros((1, 1, INPUT_SIZE))\n",
    "seed[:,:,65] = 1\n",
    "# seed[:,:,60:80] = np.random.randint(0, 2, size=20)"
   ]
  },
  {
   "cell_type": "markdown",
   "metadata": {},
   "source": [
    "### Generate sequence"
   ]
  },
  {
   "cell_type": "code",
   "execution_count": null,
   "metadata": {},
   "outputs": [],
   "source": [
    "# at default 1 frame = 0.025s\n",
    "SEQUENCE_LENGTH = 200\n",
    "\n",
    "x = seed\n",
    "for i in range(SEQUENCE_LENGTH):\n",
    "    print(i, end=',')\n",
    "    res = model.predict(x, batch_size=1)\n",
    "    x = np.concatenate([x, res[np.newaxis]], axis=1)\n",
    "    \n",
    "res = x\n",
    "res.shape"
   ]
  },
  {
   "cell_type": "markdown",
   "metadata": {},
   "source": [
    "### Save to midi format"
   ]
  },
  {
   "cell_type": "code",
   "execution_count": null,
   "metadata": {},
   "outputs": [],
   "source": [
    "res = res.round()\n",
    "res = np.squeeze(res, axis=0)\n",
    "res[0] = np.zeros(INPUT_SIZE)\n",
    "res = np.append(res, np.zeros((1, INPUT_SIZE)), axis=0)"
   ]
  },
  {
   "cell_type": "code",
   "execution_count": null,
   "metadata": {},
   "outputs": [],
   "source": [
    "# from midi_numpy.common import save_numpy_midi\n",
    "from midi_numpy.numpy_to_midi import pipe_reverse as numpy2midi\n",
    "from datetime import datetime\n",
    "\n",
    "tim = str(datetime.now()).replace(' ', '_').replace(':', '_')\n",
    "output_path = 'D:\\\\Studia\\\\SEM6\\\\biai\\\\projekt\\\\pretrained_models\\\\'\n",
    "output_file_name = f'sample_{SEQUENCE_LENGTH}_{tim}.mid'\n",
    "\n",
    "# save_numpy_midi(, np.squeeze(res, axis=0))\n",
    "# res = np.append(res, np.zeros((1, INPUT_SIZE)))\n",
    "# if len(res.shape) == 3:\n",
    "#     res = np.squeeze(res, axis=0)\n",
    "\n",
    "print(res.shape)\n",
    "mid = numpy2midi(res)\n",
    "for n in mid.tracks[0]:\n",
    "    print(n)\n",
    "# mid.save(output_path + output_file_name)"
   ]
  },
  {
   "cell_type": "code",
   "execution_count": null,
   "metadata": {},
   "outputs": [],
   "source": []
  }
 ],
 "metadata": {
  "kernelspec": {
   "display_name": "Python 3.6",
   "language": "python",
   "name": "python3"
  },
  "language_info": {
   "codemirror_mode": {
    "name": "ipython",
    "version": 3
   },
   "file_extension": ".py",
   "mimetype": "text/x-python",
   "name": "python",
   "nbconvert_exporter": "python",
   "pygments_lexer": "ipython3",
   "version": "3.6.6"
  }
 },
 "nbformat": 4,
 "nbformat_minor": 2
}
