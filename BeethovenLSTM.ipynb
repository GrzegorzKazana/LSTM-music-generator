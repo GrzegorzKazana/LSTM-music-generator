{
 "cells": [
  {
   "cell_type": "markdown",
   "metadata": {},
   "source": [
    "# First learning attempts\n",
    "### using Beethoven dataset\n",
    "* 29 pieces + transpositions across 2 octaves\n",
    "* ~70h of music (2.7h per transposition)\n",
    "* 60MB of sparse matrix data -> ~250MB dense"
   ]
  },
  {
   "cell_type": "code",
   "execution_count": 23,
   "metadata": {},
   "outputs": [
    {
     "data": {
      "text/plain": [
       "'Found 29 files'"
      ]
     },
     "execution_count": 23,
     "metadata": {},
     "output_type": "execute_result"
    }
   ],
   "source": [
    "# loading data files names\n",
    "import os\n",
    "\n",
    "path = '.\\\\datasets\\\\beethoven'\n",
    "file_names = os.listdir(path)\n",
    "file_names = list(filter(lambda fn: '.npz' in fn or '.npy' in fn or '.csv' in fn, file_names))\n",
    "assert len(file_names) > 0, 'Data not found'\n",
    "\n",
    "f'Found {len(file_names)} files'"
   ]
  },
  {
   "cell_type": "code",
   "execution_count": 24,
   "metadata": {},
   "outputs": [],
   "source": [
    "# loading data files\n",
    "from midi_numpy.common import read_numpy_midi\n",
    "file_paths = [f'{path}\\\\{fn}' for fn in file_names]\n",
    "tracks = [read_numpy_midi(fp) for fp in file_paths]"
   ]
  },
  {
   "cell_type": "markdown",
   "metadata": {},
   "source": [
    "### Creating x and y's"
   ]
  },
  {
   "cell_type": "code",
   "execution_count": 33,
   "metadata": {},
   "outputs": [
    {
     "data": {
      "text/plain": [
       "(22355, 22354)"
      ]
     },
     "execution_count": 33,
     "metadata": {},
     "output_type": "execute_result"
    }
   ],
   "source": [
    "data_x = [t[:-1] for t in tracks]\n",
    "data_y = [t[1:] for t in tracks]\n",
    "\n",
    "# allow to free mem\n",
    "tracks = []"
   ]
  },
  {
   "cell_type": "markdown",
   "metadata": {},
   "source": [
    "### Processing data"
   ]
  },
  {
   "cell_type": "code",
   "execution_count": 35,
   "metadata": {},
   "outputs": [
    {
     "data": {
      "text/plain": [
       "(1109, 1109)"
      ]
     },
     "execution_count": 35,
     "metadata": {},
     "output_type": "execute_result"
    }
   ],
   "source": [
    "# splitting data into chunks (sequences of equal length)\n",
    "import numpy as np\n",
    "CHUNK_LENGTH = 400 # equals to 10s at 0.025s frames\n",
    "\n",
    "flatten = lambda l: [item for sublist in l for item in sublist]\n",
    "\n",
    "data_x = flatten([np.array_split(dx, len(dx) // CHUNK_LENGTH + 1) for dx in data_x])\n",
    "data_y = flatten([np.array_split(dy, len(dy) // CHUNK_LENGTH + 1) for dy in data_y])\n",
    "\n",
    "len(data_x), len(data_y)"
   ]
  },
  {
   "cell_type": "code",
   "execution_count": 36,
   "metadata": {},
   "outputs": [],
   "source": [
    "# pad smaller chunks to CHUNK_SIZE\n",
    "def pad_chunk_sequence(chunk, goal_seq):\n",
    "    chunk_shape = chunk.shape\n",
    "    if chunk_shape[0] == goal_seq:\n",
    "        return chunk\n",
    "    res = np.zeros((goal_seq, *chunk_shape[1:]))\n",
    "    res[:chunk_shape[0]] = chunk\n",
    "    return res\n",
    "\n",
    "data_x = [pad_chunk_sequence(chunk, CHUNK_LENGTH) for chunk in data_x]\n",
    "data_y = [pad_chunk_sequence(chunk, CHUNK_LENGTH) for chunk in data_y]\n",
    "\n",
    "# sanity check\n",
    "for chunk in data_x:\n",
    "    assert len(chunk) == CHUNK_LENGTH, 'failed to pad'"
   ]
  },
  {
   "cell_type": "code",
   "execution_count": null,
   "metadata": {},
   "outputs": [],
   "source": [
    "# convert list of matrices to highier dim matrices\n",
    "data_x = np.stack(data_x)\n",
    "data_y = np.stack(data_y)"
   ]
  },
  {
   "cell_type": "code",
   "execution_count": null,
   "metadata": {},
   "outputs": [],
   "source": [
    "# dataset generator\n",
    "def data_gen(batch_size):\n",
    "    # data shape should be [batch_size, sequence_len, input_dim]\n",
    "    n_samples = len(data_x)\n",
    "    while True:\n",
    "        indices = np.random.randint(0, n_samples, batch_size)\n",
    "        yield data_x[indices], data_y[indices]"
   ]
  },
  {
   "cell_type": "code",
   "execution_count": null,
   "metadata": {},
   "outputs": [],
   "source": []
  }
 ],
 "metadata": {
  "kernelspec": {
   "display_name": "Python 3.6",
   "language": "python",
   "name": "python3"
  },
  "language_info": {
   "codemirror_mode": {
    "name": "ipython",
    "version": 3
   },
   "file_extension": ".py",
   "mimetype": "text/x-python",
   "name": "python",
   "nbconvert_exporter": "python",
   "pygments_lexer": "ipython3",
   "version": "3.6.6"
  }
 },
 "nbformat": 4,
 "nbformat_minor": 2
}
